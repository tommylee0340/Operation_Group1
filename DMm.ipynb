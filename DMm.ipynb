{
 "cells": [
  {
   "cell_type": "code",
   "execution_count": 1,
   "metadata": {},
   "outputs": [],
   "source": [
    "import random\n",
    "import numpy as np\n",
    "from scipy.stats import t"
   ]
  },
  {
   "cell_type": "code",
   "execution_count": 2,
   "metadata": {},
   "outputs": [],
   "source": [
    "#a simple function to sample from negative exponential\n",
    "def neg_exp(lambd):\n",
    "    return random.expovariate(lambd)"
   ]
  },
  {
   "cell_type": "code",
   "execution_count": 4,
   "metadata": {},
   "outputs": [],
   "source": [
    "# define a helper function for the 95% confidence interval test\n",
    "def CI95_upper(data):\n",
    "    upper = np.mean(data) + 1.96*np.std(data)/np.sqrt(len(data))\n",
    "    return upper\n",
    "\n",
    "def CI95_lower(data):\n",
    "    lower = np.mean(data) - 1.96*np.std(data)/np.sqrt(len(data))\n",
    "    return lower"
   ]
  },
  {
   "cell_type": "code",
   "execution_count": 7,
   "metadata": {},
   "outputs": [],
   "source": [
    "def dmm_queue(inter_arrival,m,iteration):\n",
    "    \n",
    "    avg_waiting_iter = []\n",
    "    less_than45_iter = []\n",
    "    \n",
    "    for i in range(iteration):\n",
    "        \n",
    "        Customers = []\n",
    "\n",
    "        # time in minute\n",
    "        t = 0\n",
    "        simulation_time = 60\n",
    "\n",
    "        p = 25\n",
    "        lambd = 1/p\n",
    "\n",
    "        # initialize arrival date to be 0\n",
    "        arrival_date = 0\n",
    "\n",
    "        # set the number of servers\n",
    "        servers = np.zeros(m)\n",
    "        \n",
    "        #The actual simulation happens here:\n",
    "        while t<simulation_time:\n",
    "\n",
    "            #the service time follows exponential distribution \n",
    "            service_time=neg_exp(lambd)\n",
    "\n",
    "            #calculate arrival date and service time for new customer\n",
    "            \n",
    "            # the first m customers don't need to wait\n",
    "            if len(Customers)+1<=m :\n",
    "                arrival_date+=inter_arrival\n",
    "                service_start_date=arrival_date\n",
    "                service_end_date = service_start_date + service_time\n",
    "                servers[len(Customers)] = service_end_date\n",
    "            \n",
    "            else:\n",
    "                arrival_date+=inter_arrival\n",
    "                \n",
    "                # new customers who need to wait until the next avaialble clinician \n",
    "                if arrival_date <= min(servers):\n",
    "                    service_start_date = min(servers)\n",
    "                    service_end_date = service_start_date + service_time\n",
    "                    servers[np.argmin(servers)] = min(servers) + service_time\n",
    "                \n",
    "                #new customers who don't need to wait  \n",
    "                else: \n",
    "                    service_start_date = arrival_date\n",
    "                    service_end_date = service_start_date + service_time\n",
    "                    servers[np.argmin(servers)] = service_end_date\n",
    "\n",
    "            #calculate the waiting time\n",
    "            waiting_time = service_start_date - arrival_date\n",
    "\n",
    "            cust_dict = {'arrival_date':arrival_date, \n",
    "                         'service_start_date': service_start_date,\n",
    "                         'service_time':service_time,\n",
    "                         'service_end_date':service_end_date,\n",
    "                         'waiting_time':waiting_time}\n",
    "\n",
    "            #create new customer\n",
    "            Customers.append(cust_dict)\n",
    "\n",
    "            #increment clock till next end of service\n",
    "            t=arrival_date\n",
    "        \n",
    "        waiting_times = np.array([i['waiting_time'] for i in Customers])\n",
    "        \n",
    "        #calculate the average waiting time\n",
    "        avg_waiting = np.mean(waiting_times)\n",
    "        avg_waiting_iter.append(avg_waiting)\n",
    "        \n",
    "        #calculate the probability that the waiting time less than 45 minutes\n",
    "        less_than45 = np.sum(waiting_times < 45) / len(waiting_times)\n",
    "        less_than45_iter.append(less_than45)\n",
    "        \n",
    "    #compute the upper bound of 95% confidence interval for avg_waiting time\n",
    "    if CI95_upper(avg_waiting_iter) <= 45:\n",
    "        print('95% confident that the average waiting time is less than 45 minutes')\n",
    "    else:\n",
    "        print('failed')\n",
    "    \n",
    "    #compute the lower bound of 95% confidence interval for probability that waiting time is less than 45 minutes\n",
    "    if CI95_lower(less_than45_iter) >= 0.8:\n",
    "        print('95% confident that the probability that waiting time is less than 45 minutes is at least 80%') \n",
    "    else:\n",
    "        print('failed')"
   ]
  },
  {
   "cell_type": "code",
   "execution_count": 34,
   "metadata": {},
   "outputs": [
    {
     "name": "stdout",
     "output_type": "stream",
     "text": [
      "95% confident that the average waiting time is less than 45 minutes\n",
      "95% confident that the probability that waiting time is less than 45 minutes is at least 80%\n"
     ]
    }
   ],
   "source": [
    "dmm_queue(60/4.67,2,1000)"
   ]
  }
 ],
 "metadata": {
  "kernelspec": {
   "display_name": "Python 3",
   "language": "python",
   "name": "python3"
  },
  "language_info": {
   "codemirror_mode": {
    "name": "ipython",
    "version": 3
   },
   "file_extension": ".py",
   "mimetype": "text/x-python",
   "name": "python",
   "nbconvert_exporter": "python",
   "pygments_lexer": "ipython3",
   "version": "3.6.7"
  }
 },
 "nbformat": 4,
 "nbformat_minor": 2
}
